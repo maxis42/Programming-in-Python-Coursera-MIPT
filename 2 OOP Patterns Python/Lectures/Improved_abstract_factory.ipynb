{
 "cells": [
  {
   "cell_type": "markdown",
   "metadata": {},
   "source": [
    "# Паттерн \"Абстрактная фабрика\""
   ]
  },
  {
   "cell_type": "markdown",
   "metadata": {},
   "source": [
    "## 1. Объявим абстрактную фабрику\n",
    "\n",
    "Обявим методы, которые позволят создать персонажа. Используем механизм `classmethod`"
   ]
  },
  {
   "cell_type": "code",
   "execution_count": 1,
   "metadata": {
    "collapsed": true
   },
   "outputs": [],
   "source": [
    "class HeroFactory:\n",
    "    @classmethod\n",
    "    def create_hero(Class, name):\n",
    "        return Class.Hero(name)\n",
    "    \n",
    "    @classmethod\n",
    "    def create_weapon(Class):\n",
    "        return Class.Weapon()\n",
    "    \n",
    "    @classmethod\n",
    "    def create_spell(Class):\n",
    "        return Class.Spell()"
   ]
  },
  {
   "cell_type": "markdown",
   "metadata": {},
   "source": [
    "## 2. Определим конкретные фабрики\n",
    "\n",
    "В каждой конкретной фабрике объявим собственные классы героя, оружия и заклинаний, которые будут специфичны для класса персонажа"
   ]
  },
  {
   "cell_type": "code",
   "execution_count": 2,
   "metadata": {
    "collapsed": true
   },
   "outputs": [],
   "source": [
    "class WariorFactory(HeroFactory):\n",
    "    class Hero:\n",
    "        def __init__(self, name):\n",
    "            self.name = name\n",
    "            self.weapon = None\n",
    "            self.armor = None\n",
    "            self.spell = None\n",
    "\n",
    "        def add_weapon(self, weapon):\n",
    "            self.weapon = weapon\n",
    "\n",
    "        def add_spell(self, spell):\n",
    "            self.spell = spell\n",
    "\n",
    "        def hit(self):\n",
    "            print(f\"Warior hits with {self.weapon.hit()}\")\n",
    "            self.weapon.hit()\n",
    "\n",
    "        def cast(self):\n",
    "            print(f\"Warior casts {self.spell.cast()}\")\n",
    "            self.spell.cast()\n",
    "              \n",
    "    class Weapon:\n",
    "        def hit(self):\n",
    "            return \"Claymore\"\n",
    "        \n",
    "    class Spell:\n",
    "        def cast(self):\n",
    "            return \"Power\"\n",
    "        \n",
    "    \n",
    "class MageFactory(HeroFactory):\n",
    "    class Hero:\n",
    "        def __init__(self, name):\n",
    "            self.name = name\n",
    "            self.weapon = None\n",
    "            self.armor = None\n",
    "            self.spell = None\n",
    "\n",
    "        def add_weapon(self, weapon):\n",
    "            self.weapon = weapon\n",
    "\n",
    "        def add_spell(self, spell):\n",
    "            self.spell = spell\n",
    "\n",
    "        def hit(self):\n",
    "            print(f\"Mage hits with {self.weapon.hit()}\")\n",
    "            self.weapon.hit()\n",
    "\n",
    "        def cast(self):\n",
    "            print(f\"Mage casts {self.spell.cast()}\")\n",
    "            self.spell.cast()\n",
    "            \n",
    "    class Weapon:\n",
    "        def hit(self):\n",
    "            return \"Staff\"\n",
    "        \n",
    "    class Spell:\n",
    "        def cast(self):\n",
    "            return \"Fireball\"\n",
    "    \n",
    "        \n",
    "class AssassinFactory(HeroFactory):\n",
    "    class Hero:\n",
    "        def __init__(self, name):\n",
    "            self.name = name\n",
    "            self.weapon = None\n",
    "            self.armor = None\n",
    "            self.spell = None\n",
    "\n",
    "        def add_weapon(self, weapon):\n",
    "            self.weapon = weapon\n",
    "\n",
    "        def add_spell(self, spell):\n",
    "            self.spell = spell\n",
    "\n",
    "        def hit(self):\n",
    "            print(f\"Assassin hits with {self.weapon.hit()}\")\n",
    "            self.weapon.hit()\n",
    "\n",
    "        def cast(self):\n",
    "            print(f\"Assassin casts {self.spell.cast()}\")\n",
    "     \n",
    "    class Weapon:\n",
    "        def hit(self):\n",
    "            return \"Dagger\"\n",
    "        \n",
    "    class Spell:\n",
    "        def cast(self):\n",
    "            return \"Invisibility\""
   ]
  },
  {
   "cell_type": "markdown",
   "metadata": {},
   "source": [
    "## 3. Определим функцию, создающую персонажей\n",
    "\n",
    "Она не отличается от базовой реализации"
   ]
  },
  {
   "cell_type": "code",
   "execution_count": 3,
   "metadata": {
    "collapsed": true
   },
   "outputs": [],
   "source": [
    "def create_hero(factory):\n",
    "    hero = factory.create_hero(\"Nagibator\")\n",
    "    \n",
    "    weapon = factory.create_weapon()\n",
    "    spell = factory.create_spell()\n",
    "    \n",
    "    hero.add_weapon(weapon)\n",
    "    hero.add_spell(spell)\n",
    "    \n",
    "    return hero"
   ]
  },
  {
   "cell_type": "markdown",
   "metadata": {},
   "source": [
    "## 4. Попробуем создать персонажей различных классов\n",
    "\n",
    "Попробуем создать персонажей различных классов, передавая функции назличные фабрики."
   ]
  },
  {
   "cell_type": "code",
   "execution_count": 4,
   "metadata": {},
   "outputs": [
    {
     "name": "stdout",
     "output_type": "stream",
     "text": [
      "Assassin casts Invisibility\n",
      "Assassin hits with Dagger\n"
     ]
    }
   ],
   "source": [
    "player = create_hero(AssassinFactory)\n",
    "player.cast()\n",
    "player.hit()"
   ]
  },
  {
   "cell_type": "code",
   "execution_count": 5,
   "metadata": {},
   "outputs": [
    {
     "name": "stdout",
     "output_type": "stream",
     "text": [
      "Mage casts Fireball\n",
      "Mage hits with Staff\n"
     ]
    }
   ],
   "source": [
    "player = create_hero(MageFactory)\n",
    "player.cast()\n",
    "player.hit()"
   ]
  }
 ],
 "metadata": {
  "kernelspec": {
   "display_name": "Python 3",
   "language": "python",
   "name": "python3"
  },
  "language_info": {
   "codemirror_mode": {
    "name": "ipython",
    "version": 3
   },
   "file_extension": ".py",
   "mimetype": "text/x-python",
   "name": "python",
   "nbconvert_exporter": "python",
   "pygments_lexer": "ipython3",
   "version": "3.6.3"
  }
 },
 "nbformat": 4,
 "nbformat_minor": 2
}
