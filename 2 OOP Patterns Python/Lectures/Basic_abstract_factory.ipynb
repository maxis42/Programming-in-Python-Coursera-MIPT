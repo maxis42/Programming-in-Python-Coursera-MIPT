{
 "cells": [
  {
   "cell_type": "markdown",
   "metadata": {},
   "source": [
    "# Паттерн \"Абстрактная фабрика\""
   ]
  },
  {
   "cell_type": "markdown",
   "metadata": {},
   "source": [
    "Импортируем необходимые классы и методы"
   ]
  },
  {
   "cell_type": "code",
   "execution_count": 1,
   "metadata": {
    "collapsed": true
   },
   "outputs": [],
   "source": [
    "from abc import ABC, abstractmethod"
   ]
  },
  {
   "cell_type": "markdown",
   "metadata": {},
   "source": [
    "## 1. Объявим абстрактый класс фабрики\n",
    "\n",
    "Обявим методы, которые позволят создать персонажа, а также оружие и заклинание для него."
   ]
  },
  {
   "cell_type": "code",
   "execution_count": 2,
   "metadata": {
    "collapsed": true
   },
   "outputs": [],
   "source": [
    "class HeroFactory(ABC):\n",
    "    @abstractmethod\n",
    "    def create_hero(self, name):\n",
    "        pass\n",
    "    \n",
    "    @abstractmethod\n",
    "    def create_weapon(self):\n",
    "        pass\n",
    "    \n",
    "    @abstractmethod\n",
    "    def create_spell(self):\n",
    "        pass"
   ]
  },
  {
   "cell_type": "markdown",
   "metadata": {},
   "source": [
    "## 2. Определим конкретные фабрики \n",
    "\n",
    "Оределим конкретные фабрики и необходимые классы, для каждого из классов персонажей"
   ]
  },
  {
   "cell_type": "code",
   "execution_count": 3,
   "metadata": {
    "collapsed": true
   },
   "outputs": [],
   "source": [
    "class WarriorFactory(HeroFactory):\n",
    "    def create_hero(self, name):\n",
    "        return Warrior(name)\n",
    "    \n",
    "    def create_weapon(self):\n",
    "        return Claymore()\n",
    "    \n",
    "    def create_spell(self):\n",
    "        return Power()\n",
    "\n",
    "class Warrior:\n",
    "    def __init__(self, name):\n",
    "        self.name = name\n",
    "        self.weapon = None\n",
    "        self.armor = None\n",
    "        self.spell = None\n",
    "        \n",
    "    def add_weapon(self, weapon):\n",
    "        self.weapon = weapon\n",
    "        \n",
    "    def add_spell(self, spell):\n",
    "        self.spell = spell\n",
    "        \n",
    "    def hit(self):\n",
    "        print(f\"Warrior {self.name} hits with {self.weapon.hit()}\")\n",
    "        self.weapon.hit()\n",
    "        \n",
    "    def cast(self):\n",
    "        print(f\"Warrior {self.name} casts {self.spell.cast()}\")\n",
    "        self.spell.cast()\n",
    "        \n",
    "\n",
    "class Claymore:\n",
    "    def hit(self):\n",
    "        return \"Claymore\"\n",
    "\n",
    "\n",
    "class Power:\n",
    "    def cast(self):\n",
    "        return \"Power\"\n",
    "\n",
    "\n",
    "class MageFactory(HeroFactory):\n",
    "    def create_hero(self, name):\n",
    "        return Mage(name)\n",
    "    \n",
    "    def create_weapon(self):\n",
    "        return Staff()\n",
    "    \n",
    "    def create_spell(self):\n",
    "        return Fireball()\n",
    "\n",
    "\n",
    "class Mage:\n",
    "    def __init__(self, name):\n",
    "        self.name = name\n",
    "        self.weapon = None\n",
    "        self.armor = None\n",
    "        self.spell = None\n",
    "        \n",
    "    def add_weapon(self, weapon):\n",
    "        self.weapon = weapon\n",
    "        \n",
    "    def add_spell(self, spell):\n",
    "        self.spell = spell\n",
    "        \n",
    "    def hit(self):\n",
    "        print(f\"Mage {self.name} hits with {self.weapon.hit()}\")\n",
    "        self.weapon.hit()\n",
    "        \n",
    "    def cast(self):\n",
    "        print(f\"Mage {self.name} casts {self.spell.cast()}\")\n",
    "        self.spell.cast()\n",
    "\n",
    "        \n",
    "class Staff:\n",
    "    def hit(self):\n",
    "        return \"Staff\"\n",
    "    \n",
    "    \n",
    "class Fireball:\n",
    "    def cast(self):\n",
    "        return \"Fireball\"\n",
    "\n",
    "\n",
    "class AssassinFactory(HeroFactory):\n",
    "    def create_hero(self, name):\n",
    "        return Assassin(name)\n",
    "    \n",
    "    def create_weapon(self):\n",
    "        return Dagger()\n",
    "    \n",
    "    def create_spell(self):\n",
    "        return Invisibility()\n",
    "\n",
    "\n",
    "class Assassin:\n",
    "    def __init__(self, name):\n",
    "        self.name = name\n",
    "        self.weapon = None\n",
    "        self.armor = None\n",
    "        self.spell = None\n",
    "        \n",
    "    def add_weapon(self, weapon):\n",
    "        self.weapon = weapon\n",
    "        \n",
    "    def add_spell(self, spell):\n",
    "        self.spell = spell\n",
    "        \n",
    "    def hit(self):\n",
    "        print(f\"Assassin {self.name} hits with {self.weapon.hit()}\")\n",
    "        self.weapon.hit()\n",
    "        \n",
    "    def cast(self):\n",
    "        print(f\"Assassin {self.name} casts {self.spell.cast()}\")\n",
    "\n",
    "\n",
    "class Dagger:\n",
    "    def hit(self):\n",
    "        return \"Dagger\"\n",
    "    \n",
    "\n",
    "class Invisibility:\n",
    "    def cast(self):\n",
    "        return \"Invisibility\""
   ]
  },
  {
   "cell_type": "markdown",
   "metadata": {},
   "source": [
    "## 3. Определим функцию, создающую персонажей\n",
    "\n",
    "Определим функцию, зависящую от фабрики. Данная функция будет создавать прсонажа и его экипировку в зависимости от фабрики, которая будет передаваться в качестве аргумента."
   ]
  },
  {
   "cell_type": "code",
   "execution_count": 4,
   "metadata": {
    "collapsed": true
   },
   "outputs": [],
   "source": [
    "def create_hero(factory):\n",
    "    hero = factory.create_hero(\"Nagibator\")\n",
    "    \n",
    "    weapon = factory.create_weapon()\n",
    "    ability = factory.create_spell()\n",
    "    \n",
    "    hero.add_weapon(weapon)\n",
    "    hero.add_spell(ability)\n",
    "    \n",
    "    return hero"
   ]
  },
  {
   "cell_type": "markdown",
   "metadata": {},
   "source": [
    "## 4. Попробуем создать персонажей различных классов\n",
    "\n",
    "Попробуем создать персонажей различных классов, передавая функции назличные фабрики."
   ]
  },
  {
   "cell_type": "code",
   "execution_count": 5,
   "metadata": {},
   "outputs": [
    {
     "name": "stdout",
     "output_type": "stream",
     "text": [
      "Assassin Nagibator casts Invisibility\n",
      "Assassin Nagibator hits with Dagger\n"
     ]
    }
   ],
   "source": [
    "factory = AssassinFactory()\n",
    "player = create_hero(factory)\n",
    "player.cast()\n",
    "player.hit()"
   ]
  },
  {
   "cell_type": "code",
   "execution_count": 6,
   "metadata": {},
   "outputs": [
    {
     "name": "stdout",
     "output_type": "stream",
     "text": [
      "Mage Nagibator casts Fireball\n",
      "Mage Nagibator hits with Staff\n"
     ]
    }
   ],
   "source": [
    "factory = MageFactory()\n",
    "player = create_hero(factory)\n",
    "player.cast()\n",
    "player.hit()"
   ]
  }
 ],
 "metadata": {
  "kernelspec": {
   "display_name": "Python 3",
   "language": "python",
   "name": "python3"
  },
  "language_info": {
   "codemirror_mode": {
    "name": "ipython",
    "version": 3
   },
   "file_extension": ".py",
   "mimetype": "text/x-python",
   "name": "python",
   "nbconvert_exporter": "python",
   "pygments_lexer": "ipython3",
   "version": "3.6.3"
  }
 },
 "nbformat": 4,
 "nbformat_minor": 2
}
