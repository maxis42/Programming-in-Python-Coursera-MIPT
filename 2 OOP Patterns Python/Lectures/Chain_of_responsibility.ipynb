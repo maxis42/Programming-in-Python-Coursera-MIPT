{
 "cells": [
  {
   "cell_type": "markdown",
   "metadata": {},
   "source": [
    "# Паттерн \"Цепочка обязанностей\""
   ]
  },
  {
   "cell_type": "markdown",
   "metadata": {},
   "source": [
    "## 1. Описание персонажа\n",
    "\n",
    "Опишем персонажа, который будет взаимодействовать с цепочкой обязанностей"
   ]
  },
  {
   "cell_type": "code",
   "execution_count": 1,
   "metadata": {
    "collapsed": true
   },
   "outputs": [],
   "source": [
    "class Character:\n",
    "    def __init__(self):\n",
    "        self.name = \"Nagibator\"\n",
    "        self.xp = 0\n",
    "        self.passed_quests = set()\n",
    "        self.taken_quests = set()"
   ]
  },
  {
   "cell_type": "markdown",
   "metadata": {},
   "source": [
    "## 2. Описание квестов\n",
    "\n",
    "Опишем квесты, из которых будет состоять цепочка обязанностей"
   ]
  },
  {
   "cell_type": "code",
   "execution_count": 2,
   "metadata": {
    "collapsed": true
   },
   "outputs": [],
   "source": [
    "def add_quest_speak(char):\n",
    "    quest_name = \"Поговорить с фермером\"\n",
    "    xp = 100\n",
    "    if quest_name not in (char.passed_quests | char.taken_quests):\n",
    "        print(f\"Квест получен: \\\"{quest_name}\\\"\")\n",
    "        char.taken_quests.add(quest_name)\n",
    "    elif quest_name in char.taken_quests:\n",
    "        print(f\"Квест сдан: \\\"{quest_name}\\\"\")\n",
    "        char.passed_quests.add(quest_name)\n",
    "        char.taken_quests.remove(quest_name)\n",
    "        char.xp += xp\n",
    "\n",
    "\n",
    "def add_quest_hunt(char):\n",
    "    quest_name = \"Охота на крыс\"\n",
    "    xp = 300\n",
    "    if quest_name not in (char.passed_quests | char.taken_quests):\n",
    "        print(f\"Квест получен: \\\"{quest_name}\\\"\")\n",
    "        char.taken_quests.add(quest_name)\n",
    "    elif quest_name in char.taken_quests:\n",
    "        print(f\"Квест сдан: \\\"{quest_name}\\\"\")\n",
    "        char.passed_quests.add(quest_name)\n",
    "        char.taken_quests.remove(quest_name)\n",
    "        char.xp += xp\n",
    "\n",
    "        \n",
    "\n",
    "def add_quest_carry(char):\n",
    "    quest_name = \"Принести доски из сарая\"\n",
    "    xp = 200\n",
    "    if quest_name not in (char.passed_quests | char.taken_quests):\n",
    "        print(f\"Квест получен: \\\"{quest_name}\\\"\")\n",
    "        char.taken_quests.add(quest_name)\n",
    "    elif quest_name in char.taken_quests:\n",
    "        print(f\"Квест сдан: \\\"{quest_name}\\\"\")\n",
    "        char.passed_quests.add(quest_name)\n",
    "        char.taken_quests.remove(quest_name)\n",
    "        char.xp += xp"
   ]
  },
  {
   "cell_type": "markdown",
   "metadata": {},
   "source": [
    "## 3. Описание квестгивера\n",
    "\n",
    "Опишем персонажа, который будет давать игрокам квесты. У него определим список доступных квестов, который можно пополнять.\n",
    "\n",
    "Определим метод `handle_quests`, который позволяет применить квест к персонажу."
   ]
  },
  {
   "cell_type": "code",
   "execution_count": 3,
   "metadata": {
    "collapsed": true
   },
   "outputs": [],
   "source": [
    "class QuestGiver:\n",
    "    def __init__(self):\n",
    "        self.quests = []\n",
    "        \n",
    "    def add_quest(self, quest):\n",
    "        self.quests.append(quest)\n",
    "    \n",
    "    def handle_quests(self, character):\n",
    "        for quest in self.quests:\n",
    "            quest(character)"
   ]
  },
  {
   "cell_type": "markdown",
   "metadata": {},
   "source": [
    "## 4. Применение цепочки обязанностей\n",
    "\n",
    "Создадим квестгивера и передадим ему все квесты, которые он может давать и принимать."
   ]
  },
  {
   "cell_type": "code",
   "execution_count": 4,
   "metadata": {
    "collapsed": true
   },
   "outputs": [],
   "source": [
    "all_quests = [add_quest_speak, add_quest_hunt, add_quest_carry]\n",
    "\n",
    "quest_giver = QuestGiver()\n",
    "\n",
    "for quest in all_quests:\n",
    "    quest_giver.add_quest(quest)\n",
    "    \n",
    "player = Character()"
   ]
  },
  {
   "cell_type": "markdown",
   "metadata": {},
   "source": [
    "Персонаж подходит к квестгиверу и берет квесты"
   ]
  },
  {
   "cell_type": "code",
   "execution_count": 5,
   "metadata": {},
   "outputs": [
    {
     "name": "stdout",
     "output_type": "stream",
     "text": [
      "Квест получен: \"Поговорить с фермером\"\n",
      "Квест получен: \"Охота на крыс\"\n",
      "Квест получен: \"Принести доски из сарая\"\n"
     ]
    }
   ],
   "source": [
    "quest_giver.handle_quests(player)"
   ]
  },
  {
   "cell_type": "markdown",
   "metadata": {},
   "source": [
    "Проверим, какие квесты активны на данный момент"
   ]
  },
  {
   "cell_type": "code",
   "execution_count": 6,
   "metadata": {},
   "outputs": [
    {
     "name": "stdout",
     "output_type": "stream",
     "text": [
      "Получено:  {'Принести доски из сарая', 'Поговорить с фермером', 'Охота на крыс'}\n",
      "Сдано:  set()\n"
     ]
    }
   ],
   "source": [
    "print(\"Получено: \", player.taken_quests) \n",
    "print(\"Сдано: \", player.passed_quests)"
   ]
  },
  {
   "cell_type": "markdown",
   "metadata": {},
   "source": [
    "Изменим полученные квесты"
   ]
  },
  {
   "cell_type": "code",
   "execution_count": 7,
   "metadata": {
    "collapsed": true
   },
   "outputs": [],
   "source": [
    "player.taken_quests = {'Принести доски из сарая', 'Поговорить с фермером'}"
   ]
  },
  {
   "cell_type": "markdown",
   "metadata": {},
   "source": [
    "Подойдем к квестгиверу еще раз"
   ]
  },
  {
   "cell_type": "code",
   "execution_count": 8,
   "metadata": {},
   "outputs": [
    {
     "name": "stdout",
     "output_type": "stream",
     "text": [
      "Квест сдан: \"Поговорить с фермером\"\n",
      "Квест получен: \"Охота на крыс\"\n",
      "Квест сдан: \"Принести доски из сарая\"\n"
     ]
    }
   ],
   "source": [
    "quest_giver.handle_quests(player)"
   ]
  },
  {
   "cell_type": "code",
   "execution_count": 9,
   "metadata": {},
   "outputs": [
    {
     "name": "stdout",
     "output_type": "stream",
     "text": [
      "Получено:  {'Охота на крыс'}\n",
      "Сдано:  {'Поговорить с фермером', 'Принести доски из сарая'}\n"
     ]
    }
   ],
   "source": [
    "print(\"Получено: \", player.taken_quests) \n",
    "print(\"Сдано: \", player.passed_quests)"
   ]
  },
  {
   "cell_type": "markdown",
   "metadata": {},
   "source": [
    "Сдадим оставшийся квест и проверим состояние"
   ]
  },
  {
   "cell_type": "code",
   "execution_count": 10,
   "metadata": {},
   "outputs": [
    {
     "name": "stdout",
     "output_type": "stream",
     "text": [
      "Квест сдан: \"Охота на крыс\"\n"
     ]
    }
   ],
   "source": [
    "quest_giver.handle_quests(player)"
   ]
  },
  {
   "cell_type": "code",
   "execution_count": 11,
   "metadata": {},
   "outputs": [
    {
     "name": "stdout",
     "output_type": "stream",
     "text": [
      "Получено:  set()\n",
      "Сдано:  {'Поговорить с фермером', 'Принести доски из сарая', 'Охота на крыс'}\n"
     ]
    }
   ],
   "source": [
    "print(\"Получено: \", player.taken_quests) \n",
    "print(\"Сдано: \", player.passed_quests)"
   ]
  }
 ],
 "metadata": {
  "kernelspec": {
   "display_name": "Python 3",
   "language": "python",
   "name": "python3"
  },
  "language_info": {
   "codemirror_mode": {
    "name": "ipython",
    "version": 3
   },
   "file_extension": ".py",
   "mimetype": "text/x-python",
   "name": "python",
   "nbconvert_exporter": "python",
   "pygments_lexer": "ipython3",
   "version": "3.6.3"
  }
 },
 "nbformat": 4,
 "nbformat_minor": 2
}
